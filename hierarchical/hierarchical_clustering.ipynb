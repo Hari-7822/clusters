{
 "cells": [
  {
   "cell_type": "code",
   "execution_count": 12,
   "id": "c03381fe-96dd-4592-9d34-62088d7629fa",
   "metadata": {},
   "outputs": [],
   "source": [
    "#import section\n",
    "\n",
    "import pandas as pd\n",
    "import numpy as np\n",
    "import matplotlib.pyplot as mat\n",
    "\n",
    "import scipy.cluster.hierarchy as sci\n",
    "from sklearn.cluster import AgglomerativeClustering as Ag"
   ]
  },
  {
   "cell_type": "code",
   "execution_count": 6,
   "id": "856ffa21-29f8-4bd2-b54c-e33423a4f082",
   "metadata": {},
   "outputs": [],
   "source": [
    "#file declare and locking columns using iloc()\n",
    "\n",
    "data = pd.read_csv('..//src//main.csv')\n",
    "x = data.iloc[:,[2, 3]].values"
   ]
  },
  {
   "cell_type": "code",
   "execution_count": 2,
   "id": "c24fb849-0509-42b7-a9b3-503c6d5033d0",
   "metadata": {},
   "outputs": [
    {
     "ename": "NameError",
     "evalue": "name 'sci' is not defined",
     "output_type": "error",
     "traceback": [
      "\u001b[1;31m---------------------------------------------------------------------------\u001b[0m",
      "\u001b[1;31mNameError\u001b[0m                                 Traceback (most recent call last)",
      "Cell \u001b[1;32mIn[2], line 3\u001b[0m\n\u001b[0;32m      1\u001b[0m \u001b[39m#init of dendrogram and visualizaiton\u001b[39;00m\n\u001b[1;32m----> 3\u001b[0m dendo \u001b[39m=\u001b[39m sci\u001b[39m.\u001b[39mdendrogram(sci\u001b[39m.\u001b[39mlinkage(x, method \u001b[39m=\u001b[39m\u001b[39m'\u001b[39m\u001b[39mward\u001b[39m\u001b[39m'\u001b[39m))\n\u001b[0;32m      5\u001b[0m mat\u001b[39m.\u001b[39mtitle(\u001b[39m'\u001b[39m\u001b[39mDendrogram\u001b[39m\u001b[39m'\u001b[39m)\n\u001b[0;32m      6\u001b[0m mat\u001b[39m.\u001b[39mylabel(\u001b[39m\"\u001b[39m\u001b[39mEuclidean distances\u001b[39m\u001b[39m\"\u001b[39m)\n",
      "\u001b[1;31mNameError\u001b[0m: name 'sci' is not defined"
     ]
    }
   ],
   "source": [
    "#init of dendrogram and visualizaiton\n",
    "\n",
    "dendo = sci.dendrogram(sci.linkage(x, method ='ward'))\n",
    "\n",
    "mat.title('Dendrogram')\n",
    "mat.ylabel(\"Euclidean distances\")\n",
    "mat.xlabel(\"indices\")\n",
    "mat.show()"
   ]
  },
  {
   "cell_type": "code",
   "execution_count": 8,
   "id": "2f128f73-4406-4a93-a409-f61795b74983",
   "metadata": {},
   "outputs": [
    {
     "name": "stderr",
     "output_type": "stream",
     "text": [
      "c:\\Users\\h2605\\Documents\\projects\\ml\\venv\\Lib\\site-packages\\sklearn\\cluster\\_agglomerative.py:983: FutureWarning: Attribute `affinity` was deprecated in version 1.2 and will be removed in 1.4. Use `metric` instead\n",
      "  warnings.warn(\n"
     ]
    }
   ],
   "source": [
    "#agglomeration init \n",
    "\n",
    "agg = Ag(n_clusters = 5, affinity ='euclidean', linkage = \"ward\")\n",
    "\n",
    "y_pred = agg.fit_predict(x) #comute clusters and predict cluster_index for each sample"
   ]
  },
  {
   "cell_type": "code",
   "execution_count": 9,
   "id": "573481c9-f8b8-4d0d-89a0-5003a85936b0",
   "metadata": {},
   "outputs": [
    {
     "data": {
      "text/plain": [
       "<matplotlib.collections.PathCollection at 0x1930c611cd0>"
      ]
     },
     "execution_count": 9,
     "metadata": {},
     "output_type": "execute_result"
    },
    {
     "data": {
      "image/png": "[encoded data removed]",
      "text/plain": [
       "<Figure size 800x550 with 1 Axes>"
      ]
     },
     "metadata": {},
     "output_type": "display_data"
    }
   ],
   "source": [
    "#plotting sactter plot\n",
    "\n",
    "mat.scatter(x[y_pred == 0, 0], x[y_pred == 0,1], s = 100, c = 'blue', label = 'cluster_1') #for cluster 1\n",
    "mat.scatter(x[y_pred == 1, 0], x[y_pred == 1,1], s = 100, c = 'green', label = 'cluster_2') #for cluster 2\n",
    "\n",
    "mat.scatter(x[y_pred == 2, 0], x[y_pred == 2,1], s = 100, c = 'red', label = 'cluster_3') #for cluster 3\n",
    "mat.scatter(x[y_pred == 3, 0], x[y_pred == 3,1], s = 100, c = 'yellow', label = 'cluster_4') #for cluster 4\n",
    "\n",
    "mat.scatter(x[y_pred == 4, 0], x[y_pred == 4,1], s = 100, c = 'pink', label = 'cluster_5') #for cluster 5\n",
    "\n",
    "#no visualizers updated cuz its alpha and yet to be updated for hierarchical clustering"
   ]
  }
 ],
 "metadata": {
  "kernelspec": {
   "display_name": "venv",
   "language": "python",
   "name": "python3"
  },
  "language_info": {
   "codemirror_mode": {
    "name": "ipython",
    "version": 3
   },
   "file_extension": ".py",
   "mimetype": "text/x-python",
   "name": "python",
   "nbconvert_exporter": "python",
   "pygments_lexer": "ipython3",
   "version": "3.11.1"
  },
  "vscode": {
   "interpreter": {
    "hash": "3d0b94e52a4b32756b3f2a8f4e175426ca0a613b61516d502a3d5e3daab9bbab"
   }
  }
 },
 "nbformat": 4,
 "nbformat_minor": 5
}
